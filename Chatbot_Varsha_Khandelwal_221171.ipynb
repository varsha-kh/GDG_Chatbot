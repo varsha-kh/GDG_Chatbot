{
 "cells": [
  {
   "cell_type": "code",
   "execution_count": null,
   "id": "f8a81fc4",
   "metadata": {},
   "outputs": [],
   "source": [
    "\n",
    "import pickle\n",
    "import numpy as np\n",
    "import matplotlib.pyplot as plt\n",
    "from keras.preprocessing.sequence import pad_sequences\n",
    "from keras.preprocessing.text import Tokenizer\n",
    "from keras.models import Sequential, Model\n",
    "from keras.layers import Embedding, Input, Dropout, add, dot, Activation, Permute, concatenate, LSTM, Dense\n"
   ]
  },
  {
   "cell_type": "markdown",
   "id": "8a14a6be",
   "metadata": {},
   "source": [
    "## Load Data"
   ]
  },
  {
   "cell_type": "code",
   "execution_count": null,
   "id": "31beb260",
   "metadata": {},
   "outputs": [],
   "source": [
    "\n",
    "with open(\"train_qa.txt\", \"rb\") as fp:\n",
    "    train_data = pickle.load(fp)\n",
    "\n",
    "with open(\"test_qa.txt\", \"rb\") as fp:\n",
    "    test_data = pickle.load(fp)\n",
    "\n",
    "print(\"Training samples:\", len(train_data))\n",
    "print(\"Testing samples:\", len(test_data))\n"
   ]
  },
  {
   "cell_type": "markdown",
   "id": "1dcac972",
   "metadata": {},
   "source": [
    "## Build Vocabulary"
   ]
  },
  {
   "cell_type": "code",
   "execution_count": null,
   "id": "5393764a",
   "metadata": {},
   "outputs": [],
   "source": [
    "\n",
    "all_data = train_data + test_data\n",
    "vocab = set()\n",
    "for story, question, answer in all_data:\n",
    "    vocab |= set(story)\n",
    "    vocab |= set(question)\n",
    "vocab.add(\"yes\")\n",
    "vocab.add(\"no\")\n",
    "\n",
    "vocab_size = len(vocab) + 1\n",
    "max_story_len = max(len(story) for story, _, _ in all_data)\n",
    "max_question_len = max(len(q) for _, q, _ in all_data)\n",
    "\n",
    "print(\"Vocabulary size:\", vocab_size)\n",
    "print(\"Max story length:\", max_story_len)\n",
    "print(\"Max question length:\", max_question_len)\n"
   ]
  },
  {
   "cell_type": "markdown",
   "id": "a4697a8a",
   "metadata": {},
   "source": [
    "## Tokenization"
   ]
  },
  {
   "cell_type": "code",
   "execution_count": null,
   "id": "f56059e0",
   "metadata": {},
   "outputs": [],
   "source": [
    "\n",
    "tokenizer = Tokenizer(filters=[])\n",
    "tokenizer.fit_on_texts(vocab)\n",
    "word_index = tokenizer.word_index\n"
   ]
  },
  {
   "cell_type": "markdown",
   "id": "fe9975e0",
   "metadata": {},
   "source": [
    "## Vectorization"
   ]
  },
  {
   "cell_type": "code",
   "execution_count": null,
   "id": "df61cb80",
   "metadata": {},
   "outputs": [],
   "source": [
    "\n",
    "def vectorize_stories(data, word_index, max_story_len, max_question_len):\n",
    "    X, Xq, Y = [], [], []\n",
    "    for story, query, answer in data:\n",
    "        x = [word_index[w.lower()] for w in story]\n",
    "        xq = [word_index[w.lower()] for w in query]\n",
    "        y = np.zeros(len(word_index) + 1)\n",
    "        y[word_index[answer]] = 1\n",
    "        X.append(x)\n",
    "        Xq.append(xq)\n",
    "        Y.append(y)\n",
    "    return (\n",
    "        pad_sequences(X, maxlen=max_story_len),\n",
    "        pad_sequences(Xq, maxlen=max_question_len),\n",
    "        np.array(Y)\n",
    "    )\n",
    "\n",
    "inputs_train, queries_train, answers_train = vectorize_stories(train_data, word_index, max_story_len, max_question_len)\n",
    "inputs_test, queries_test, answers_test = vectorize_stories(test_data, word_index, max_story_len, max_question_len)\n",
    "\n",
    "print(\"Training input shape:\", inputs_train.shape)\n",
    "print(\"Training query shape:\", queries_train.shape)\n",
    "print(\"Training answer shape:\", answers_train.shape)\n"
   ]
  },
  {
   "cell_type": "markdown",
   "id": "00e62c9c",
   "metadata": {},
   "source": [
    "## Build the Model"
   ]
  },
  {
   "cell_type": "code",
   "execution_count": null,
   "id": "b5dcab99",
   "metadata": {},
   "outputs": [],
   "source": [
    "\n",
    "input_sequence = Input((max_story_len,))\n",
    "question = Input((max_question_len,))\n",
    "\n",
    "# Encoders\n",
    "input_encoder_m = Sequential([\n",
    "    Embedding(vocab_size, 64),\n",
    "    Dropout(0.3)\n",
    "])\n",
    "input_encoder_c = Sequential([\n",
    "    Embedding(vocab_size, max_question_len),\n",
    "    Dropout(0.3)\n",
    "])\n",
    "question_encoder = Sequential([\n",
    "    Embedding(vocab_size, 64, input_length=max_question_len),\n",
    "    Dropout(0.3)\n",
    "])\n",
    "\n",
    "# Encoded Inputs\n",
    "input_encoded_m = input_encoder_m(input_sequence)\n",
    "input_encoded_c = input_encoder_c(input_sequence)\n",
    "question_encoded = question_encoder(question)\n",
    "\n",
    "# Match (Attention)\n",
    "match = dot([input_encoded_m, question_encoded], axes=(2, 2))\n",
    "match = Activation(\"softmax\")(match)\n",
    "\n",
    "# Response\n",
    "response = add([match, input_encoded_c])\n",
    "response = Permute((2, 1))(response)\n",
    "\n",
    "# Combine response + question\n",
    "answer = concatenate([response, question_encoded])\n",
    "answer = LSTM(32)(answer)\n",
    "answer = Dropout(0.5)(answer)\n",
    "answer = Dense(vocab_size)(answer)\n",
    "answer = Activation(\"softmax\")(answer)\n",
    "\n",
    "# Final model\n",
    "model = Model([input_sequence, question], answer)\n",
    "model.compile(optimizer=\"rmsprop\", loss=\"categorical_crossentropy\", metrics=[\"accuracy\"])\n",
    "model.summary()\n"
   ]
  },
  {
   "cell_type": "markdown",
   "id": "ce321dc5",
   "metadata": {},
   "source": [
    "## Train the Model"
   ]
  },
  {
   "cell_type": "code",
   "execution_count": null,
   "id": "89f4a903",
   "metadata": {},
   "outputs": [],
   "source": [
    "\n",
    "history = model.fit(\n",
    "    [inputs_train, queries_train], answers_train,\n",
    "    batch_size=32,\n",
    "    epochs=120,\n",
    "    validation_data=([inputs_test, queries_test], answers_test)\n",
    ")\n"
   ]
  },
  {
   "cell_type": "markdown",
   "id": "92d04561",
   "metadata": {},
   "source": [
    "## Training Results"
   ]
  },
  {
   "cell_type": "code",
   "execution_count": null,
   "id": "9d96246f",
   "metadata": {},
   "outputs": [],
   "source": [
    "\n",
    "plt.plot(history.history['accuracy'], label='Train Accuracy')\n",
    "plt.plot(history.history['val_accuracy'], label='Validation Accuracy')\n",
    "plt.title(\"Model Accuracy\")\n",
    "plt.xlabel(\"Epoch\")\n",
    "plt.ylabel(\"Accuracy\")\n",
    "plt.legend()\n",
    "plt.show()\n"
   ]
  },
  {
   "cell_type": "markdown",
   "id": "5a1c6211",
   "metadata": {},
   "source": [
    "## Sample Predictions"
   ]
  },
  {
   "cell_type": "code",
   "execution_count": null,
   "id": "ca4f57b6",
   "metadata": {},
   "outputs": [],
   "source": [
    "\n",
    "story, query, ans = test_data[0]\n",
    "print(\"Story:\", story)\n",
    "print(\"Query:\", query)\n",
    "print(\"Correct Answer:\", ans)\n",
    "\n",
    "pred = model.predict([\n",
    "    pad_sequences([[word_index[w.lower()] for w in story]], maxlen=max_story_len),\n",
    "    pad_sequences([[word_index[w.lower()] for w in query]], maxlen=max_question_len)\n",
    "])\n",
    "\n",
    "val_max = np.argmax(pred[0])\n",
    "for word, idx in word_index.items():\n",
    "    if idx == val_max:\n",
    "        print(\"Predicted Answer:\", word)\n",
    "        break\n"
   ]
  }
 ],
 "metadata": {
  "language_info": {
   "name": "python"
  }
 },
 "nbformat": 4,
 "nbformat_minor": 5
}
